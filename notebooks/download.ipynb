{
 "cells": [
  {
   "cell_type": "markdown",
   "metadata": {},
   "source": [
    "# Download Datasets\n"
   ]
  },
  {
   "cell_type": "code",
   "execution_count": null,
   "metadata": {},
   "outputs": [],
   "source": [
    "import projd\n",
    "from pathlib import Path\n",
    "import nltk\n",
    "import pandas as pd\n",
    "import matplotlib.pyplot as plt\n",
    "%matplotlib inline\n",
    "\n",
    "data_dir = Path('~/data/2018/uvm_deep_learning_homework2/').expanduser()\n",
    "female_path = data_dir / 'female_names.txt'\n",
    "male_path = data_dir / 'male_names.txt'\n",
    "jokes_path = data_dir / 'stupidstuff.json'\n",
    "pnp_path = data_dir / 'pride_and_prejudice.txt'"
   ]
  },
  {
   "cell_type": "code",
   "execution_count": null,
   "metadata": {},
   "outputs": [],
   "source": [
    "def download_url(url, path):\n",
    "    resp = requests.get(url)\n",
    "    if resp.status_code == 200:\n",
    "        with open(path, 'w') as fh:\n",
    "            fh.write(resp.text)\n"
   ]
  },
  {
   "cell_type": "markdown",
   "metadata": {},
   "source": [
    "## First Names\n",
    "\n",
    "Around 10000 first names balanced between male and female names.\n",
    "\n",
    "http://www.cs.cmu.edu/afs/cs/project/ai-repository/ai/areas/nlp/corpora/names/"
   ]
  },
  {
   "cell_type": "code",
   "execution_count": null,
   "metadata": {},
   "outputs": [],
   "source": [
    "def download_names():\n",
    "    female_resp = requests.get('https://www.cs.cmu.edu/Groups/AI/areas/nlp/corpora/names/female.txt')\n",
    "    male_resp = requests.get('https://www.cs.cmu.edu/Groups/AI/areas/nlp/corpora/names/male.txt')\n",
    "    for resp, path in ((female_resp, female_path), (male_resp, male_path)):\n",
    "        if resp.status_code == 200:\n",
    "            print('saving to', str(path))\n",
    "            with open(path, 'w') as fh:\n",
    "                fh.write(resp.text)\n",
    "\n",
    "# download_names()\n"
   ]
  },
  {
   "cell_type": "code",
   "execution_count": null,
   "metadata": {},
   "outputs": [],
   "source": [
    "def load_names():\n",
    "    females = pd.read_csv(female_path, skiprows=6, header=None, names=['name'])\n",
    "    females['sex'] = 'female'\n",
    "    males = pd.read_csv(male_path, skiprows=6, header=None, names=['name'])\n",
    "    males['sex'] = 'male'\n",
    "\n",
    "    return pd.concat([females, males], ignore_index=True)\n",
    "\n",
    "# names = load_names()\n",
    "# names.iloc[4990:5011, :]"
   ]
  },
  {
   "cell_type": "markdown",
   "metadata": {},
   "source": [
    "## Joke Dataset\n",
    "\n",
    "https://github.com/taivop/joke-dataset\n",
    "\n",
    "I'm using about 10,000 jokes, the `wocka.json` file."
   ]
  },
  {
   "cell_type": "code",
   "execution_count": null,
   "metadata": {},
   "outputs": [],
   "source": [
    "def download_jokes():\n",
    "    resp = requests.get('https://raw.githubusercontent.com/taivop/joke-dataset/master/wocka.json')\n",
    "    if resp.status_code == 200:\n",
    "        with open(jokes_path, 'w') as fh:\n",
    "            fh.write(resp.text)\n",
    "            \n",
    "# download_jokes()\n"
   ]
  },
  {
   "cell_type": "code",
   "execution_count": null,
   "metadata": {},
   "outputs": [],
   "source": [
    "def load_jokes():\n",
    "    '''return a dataframe with columns: body, category, id, title.  body contains the text of the joke.'''\n",
    "    df = pd.read_json(jokes_path)\n",
    "    return df\n",
    "\n",
    "# df = load_jokes()\n",
    "# df.head()"
   ]
  },
  {
   "cell_type": "markdown",
   "metadata": {},
   "source": [
    "## Pride and Prejudice by Jane Austen\n",
    "\n",
    "Courtesy of the Gutenberg Project: http://www.gutenberg.org/ebooks/1342\n"
   ]
  },
  {
   "cell_type": "code",
   "execution_count": null,
   "metadata": {},
   "outputs": [],
   "source": [
    "# uncomment to download the book\n",
    "# download_url('http://www.gutenberg.org/files/1342/1342-0.txt', pnp_path)"
   ]
  },
  {
   "cell_type": "code",
   "execution_count": null,
   "metadata": {},
   "outputs": [],
   "source": [
    "def load_pride_and_prejudice():\n",
    "    '''return an unprocessed hunk of text with header lines prepended.'''\n",
    "    with open(pnp_path) as fh:\n",
    "        text = fh.read()\n",
    "        return text"
   ]
  },
  {
   "cell_type": "code",
   "execution_count": null,
   "metadata": {},
   "outputs": [],
   "source": []
  }
 ],
 "metadata": {
  "language_info": {
   "name": "python",
   "pygments_lexer": "ipython3"
  }
 },
 "nbformat": 4,
 "nbformat_minor": 2
}
