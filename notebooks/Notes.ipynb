{
 "cells": [
  {
   "cell_type": "code",
   "execution_count": null,
   "metadata": {},
   "outputs": [],
   "source": [
    "csv='''model acc      loss  val_acc  val_loss params\n",
    "baseline 0.660507  1.081073  0.43216  2.226593 82304\n",
    "lstm 0.643120  1.155526  0.50912  1.761593 230144\n",
    "dropout 0.49565333331425987 1.6998789175415039 0.4385599999332428 1.9544029370498657 82304\n",
    "dropout_short 0.4957 1.6999 0.4386 1.9544 82304\n",
    "dropout_long 0.4897 1.7149 0.4414 1.9543 82304\n",
    "dropout_short_data 0.4982 1.7125 0.4896 1.7499 82304\n",
    "dropout_2rnn_short_data 0.562053 1.481656 0.532080 1.618062 115200\n",
    "conv 0.742933  0.811836  0.49400  2.176098 106944\n",
    "conv_2gru_short_data 0.836587  0.488136  0.550560  2.326647 255040\n",
    "2conv_2lstm_dropout_data 0 0 0 0 324992\n",
    "'''\n",
    "import io\n",
    "import pandas as pd\n",
    "df = pd.read_table(io.StringIO(csv), sep=r\"\\s+\")\n",
    "\n",
    "df"
   ]
  },
  {
   "cell_type": "markdown",
   "metadata": {},
   "source": [
    "Best train acc: conv_2gru_short_data, 0.84 255040\n",
    "Best train acc: conv, 106944 params\n",
    "2nd best: baseline, 82304 params\n",
    "\n",
    "Best val acc: conv_2gru_short_data, 0.55 255040\n",
    "Best val acc: dropout_2rnn_short_data, 0.53, 115200\n",
    "2nd best: lstm, 0.51, 230144\n",
    "\n",
    "Seems like a good combination might be:\n",
    "conv-conv-rnn-rnn-dropout-data.  \n",
    "\n",
    "kitchen is conv-gru-gru-short-data-data\n"
   ]
  },
  {
   "cell_type": "code",
   "execution_count": null,
   "metadata": {},
   "outputs": [],
   "source": [
    "print(df.to_csv())"
   ]
  },
  {
   "cell_type": "code",
   "execution_count": null,
   "metadata": {},
   "outputs": [],
   "source": []
  }
 ],
 "metadata": {
  "language_info": {
   "name": "python",
   "pygments_lexer": "ipython3"
  }
 },
 "nbformat": 4,
 "nbformat_minor": 2
}
