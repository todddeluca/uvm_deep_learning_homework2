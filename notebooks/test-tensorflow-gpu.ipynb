{
 "cells": [
  {
   "cell_type": "markdown",
   "metadata": {},
   "source": [
    "# Test Tensorflow GPU\n",
    "\n",
    "A quick test to check that tensorflow is detecting and using the GPU\n"
   ]
  },
  {
   "cell_type": "markdown",
   "metadata": {},
   "source": [
    "## Imports, Constants, etc."
   ]
  },
  {
   "cell_type": "code",
   "execution_count": null,
   "metadata": {},
   "outputs": [],
   "source": [
    "from PIL import Image\n",
    "import tensorflow as tf\n",
    "# from tensorflow.contrib import keras\n",
    "import keras\n",
    "import keras.preprocessing.image # gets around issue where keras.preprocessing does not have image attribute\n",
    "import keras.applications.densenet\n",
    "import numpy as np\n",
    "import os\n",
    "import pathlib\n",
    "from pathlib import Path\n",
    "import random\n",
    "import re\n",
    "import shutil\n",
    "import sklearn.preprocessing\n",
    "import sklearn.model_selection\n",
    "import gc\n",
    "import keras.callbacks\n",
    "import pandas as pd\n",
    "import seaborn as sns\n",
    "\n",
    "import matplotlib.pyplot as plt\n",
    "%matplotlib inline"
   ]
  },
  {
   "cell_type": "markdown",
   "metadata": {},
   "source": [
    "# Test GPU usage\n",
    "\n",
    "This comes in handy to see if tensorflow detects a GPU."
   ]
  },
  {
   "cell_type": "code",
   "execution_count": null,
   "metadata": {},
   "outputs": [],
   "source": [
    "sess = tf.Session(config=tf.ConfigProto(log_device_placement=True))\n",
    "# look at jupyter command line output to see if a GPU is detected.\n",
    "# It should say something like:\n",
    "# Creating TensorFlow device (/device:GPU:0) -> (device: 0, name: Tesla K80, pci bus id: 0aac:00:00.0, compute capability: 3.7)\n",
    "sess.close()"
   ]
  },
  {
   "cell_type": "code",
   "execution_count": null,
   "metadata": {},
   "outputs": [],
   "source": []
  }
 ],
 "metadata": {
  "language_info": {
   "name": "python",
   "pygments_lexer": "ipython3"
  }
 },
 "nbformat": 4,
 "nbformat_minor": 2
}
